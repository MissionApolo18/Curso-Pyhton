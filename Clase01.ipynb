{
 "cells": [
  {
   "cell_type": "markdown",
   "metadata": {},
   "source": [
    "# Clase 1 - Python\n",
    "\n",
    "Suele ser utilizado en varias ramas de la programación."
   ]
  },
  {
   "cell_type": "code",
   "execution_count": null,
   "metadata": {},
   "outputs": [
    {
     "name": "stdout",
     "output_type": "stream",
     "text": [
      "Hola mundo\n"
     ]
    }
   ],
   "source": [
    "print(\"Hola mundo\")"
   ]
  },
  {
   "cell_type": "markdown",
   "metadata": {},
   "source": [
    "## Variables\n",
    "Tiene diferentes tipos de datos que se pueden almacenar en una variable para que sea más sencillo manipular sus propiedades."
   ]
  },
  {
   "cell_type": "code",
   "execution_count": null,
   "metadata": {},
   "outputs": [],
   "source": [
    "mi_nombre=\"Atenea Gutiérrez\"\n",
    "mi_apodo=\"Tony\"\n",
    "mi_edad=19\n",
    "mi_correro= \"ateneagutierrez17@aragon.unam.mx\""
   ]
  },
  {
   "cell_type": "markdown",
   "metadata": {},
   "source": [
    "Estas variables son almacenadas en una parte de la memoria, y puedo recurrir a ellas en cualquier momento, siempre y cuando \"llame\" al identificador que se desea."
   ]
  },
  {
   "cell_type": "code",
   "execution_count": null,
   "metadata": {},
   "outputs": [
    {
     "name": "stdout",
     "output_type": "stream",
     "text": [
      "Atenea Gutiérrez\n",
      "Tony\n",
      "19\n",
      "ateneagutierrez17@aragon.unam.mx\n"
     ]
    }
   ],
   "source": [
    "print(mi_nombre)\n",
    "print(mi_apodo)\n",
    "print(mi_edad)\n",
    "print(mi_correro)"
   ]
  },
  {
   "cell_type": "markdown",
   "metadata": {},
   "source": [
    "A nivel de testeo es recomendable definir que tipo de variable se están usando. Aunque automaticamente Python lo interpreta hasta que la empiezas a utilizar."
   ]
  },
  {
   "cell_type": "markdown",
   "metadata": {},
   "source": [
    "### Suma de variables\n",
    "Se pueden realizar múltiples operaciones con las variables y una de ellas es la suma. Ejemplo:"
   ]
  },
  {
   "cell_type": "code",
   "execution_count": null,
   "metadata": {},
   "outputs": [],
   "source": [
    "valor_1=35\n",
    "valor_2=10"
   ]
  },
  {
   "cell_type": "code",
   "execution_count": null,
   "metadata": {},
   "outputs": [
    {
     "name": "stdout",
     "output_type": "stream",
     "text": [
      "45\n"
     ]
    }
   ],
   "source": [
    "suma=valor_1+valor_2\n",
    "print(suma)"
   ]
  },
  {
   "cell_type": "markdown",
   "metadata": {},
   "source": [
    "## Ejercicio 1\n",
    "Crear cada variable y asignar su operación."
   ]
  },
  {
   "cell_type": "code",
   "execution_count": null,
   "metadata": {},
   "outputs": [],
   "source": [
    "resta= valor_1-valor_2\n",
    "multiplicacion=valor_1*valor_2\n",
    "division=valor_1/valor_2"
   ]
  },
  {
   "cell_type": "code",
   "execution_count": null,
   "metadata": {},
   "outputs": [
    {
     "name": "stdout",
     "output_type": "stream",
     "text": [
      "25\n",
      "350\n",
      "3.5\n"
     ]
    }
   ],
   "source": [
    "print(resta)\n",
    "print(multiplicacion)\n",
    "print(division)"
   ]
  },
  {
   "cell_type": "markdown",
   "metadata": {},
   "source": [
    "## Format\n",
    "Forma de concatenar el texto. permite imprimir variables y texto al mismo tiempo"
   ]
  },
  {
   "cell_type": "code",
   "execution_count": null,
   "metadata": {},
   "outputs": [
    {
     "name": "stdout",
     "output_type": "stream",
     "text": [
      "Mi edad es: 19\n"
     ]
    }
   ],
   "source": [
    "print(f'Mi edad es: {mi_edad}')"
   ]
  },
  {
   "cell_type": "markdown",
   "metadata": {},
   "source": [
    "## Input\n",
    "Ayuda a asignar valores desde la ejecución. También se puede asignar directamente a una variable"
   ]
  },
  {
   "cell_type": "code",
   "execution_count": 1,
   "metadata": {},
   "outputs": [
    {
     "name": "stdout",
     "output_type": "stream",
     "text": [
      "30\n"
     ]
    }
   ],
   "source": [
    "valor_3=int(input('Dame un valor '))\n",
    "print(valor_3)"
   ]
  },
  {
   "cell_type": "code",
   "execution_count": 2,
   "metadata": {},
   "outputs": [
    {
     "name": "stdout",
     "output_type": "stream",
     "text": [
      "30\n"
     ]
    }
   ],
   "source": [
    "valor_3 * 3\n",
    "print(valor_3)"
   ]
  },
  {
   "cell_type": "markdown",
   "metadata": {},
   "source": [
    "## Ejercicio 2"
   ]
  },
  {
   "cell_type": "code",
   "execution_count": 4,
   "metadata": {},
   "outputs": [
    {
     "name": "stdout",
     "output_type": "stream",
     "text": [
      "La suma de 15 y 24 es 39\n"
     ]
    }
   ],
   "source": [
    "valor_1=int(input('Dame un valor 1'))\n",
    "valor_2=int(input('Dame un valor 2'))\n",
    "suma= valor_1+valor_2\n",
    "print(f'La suma de {valor_1} y {valor_2} es {suma}')"
   ]
  },
  {
   "cell_type": "markdown",
   "metadata": {},
   "source": [
    "# Reto\n",
    "## Variables\n",
    "Crear variables de: \n",
    "- Libro\n",
    "- Número de la suerte\n",
    "- Suma edades\n",
    "Al final imprimir las varibales"
   ]
  },
  {
   "cell_type": "code",
   "execution_count": 9,
   "metadata": {},
   "outputs": [],
   "source": [
    "libro_fav=\"Harry Poter\"\n",
    "num_suerte=28\n",
    "suma_edades= 19+19+18+20"
   ]
  },
  {
   "cell_type": "markdown",
   "metadata": {},
   "source": [
    "## Suma de variables"
   ]
  },
  {
   "cell_type": "code",
   "execution_count": 7,
   "metadata": {},
   "outputs": [],
   "source": [
    "val_1=36\n",
    "val_2=169\n",
    "val_3=85"
   ]
  },
  {
   "cell_type": "code",
   "execution_count": 8,
   "metadata": {},
   "outputs": [
    {
     "name": "stdout",
     "output_type": "stream",
     "text": [
      "121\n",
      "84\n",
      "6084\n"
     ]
    }
   ],
   "source": [
    "suma=val_1+val_3\n",
    "print(suma)\n",
    "resta=val_2-val_3\n",
    "print(resta)\n",
    "multiplicacion=val_1*val_2\n",
    "print(multiplicacion)"
   ]
  },
  {
   "cell_type": "markdown",
   "metadata": {},
   "source": [
    "## Format"
   ]
  },
  {
   "cell_type": "code",
   "execution_count": 10,
   "metadata": {},
   "outputs": [
    {
     "name": "stdout",
     "output_type": "stream",
     "text": [
      "La suma de las edades de Brenda, Ana, Azael y Atenea es de 76\n"
     ]
    }
   ],
   "source": [
    "print(f'La suma de las edades de Brenda, Ana, Azael y Atenea es de {suma_edades}')"
   ]
  },
  {
   "cell_type": "code",
   "execution_count": 11,
   "metadata": {},
   "outputs": [
    {
     "name": "stdout",
     "output_type": "stream",
     "text": [
      "El área del terreno con un ancho de 25 y de largo 30, es de: 750\n"
     ]
    }
   ],
   "source": [
    "anch_terreno=25\n",
    "largo_terreno=30\n",
    "\n",
    "area_terreno=anch_terreno*largo_terreno\n",
    "\n",
    "print(f'El área del terreno con un ancho de {anch_terreno} mts y de largo {largo_terreno} mts, es de: {area_terreno}')"
   ]
  },
  {
   "cell_type": "code",
   "execution_count": 12,
   "metadata": {},
   "outputs": [
    {
     "name": "stdout",
     "output_type": "stream",
     "text": [
      "Su nombre es: Atenea, y su edad es de 19 años\n"
     ]
    }
   ],
   "source": [
    "nombre=input('Dame tu nombre: ')\n",
    "edad= int(input('Dame tu edad: '))\n",
    "print(f'Su nombre es: {nombre}, y su edad es de {edad} años')"
   ]
  },
  {
   "cell_type": "markdown",
   "metadata": {},
   "source": [
    "## Condicionales\n",
    "Permiten evaluar 2 elementos. Entre ellos se encuentran:\n",
    "- Valores booleanos\n",
    "- Sentencias if"
   ]
  },
  {
   "cell_type": "code",
   "execution_count": 15,
   "metadata": {},
   "outputs": [
    {
     "data": {
      "text/plain": [
       "False"
      ]
     },
     "execution_count": 15,
     "metadata": {},
     "output_type": "execute_result"
    }
   ],
   "source": [
    "35>=42"
   ]
  },
  {
   "cell_type": "code",
   "execution_count": 16,
   "metadata": {},
   "outputs": [
    {
     "data": {
      "text/plain": [
       "False"
      ]
     },
     "execution_count": 16,
     "metadata": {},
     "output_type": "execute_result"
    }
   ],
   "source": [
    "20<=15"
   ]
  },
  {
   "cell_type": "code",
   "execution_count": 17,
   "metadata": {},
   "outputs": [
    {
     "data": {
      "text/plain": [
       "True"
      ]
     },
     "execution_count": 17,
     "metadata": {},
     "output_type": "execute_result"
    }
   ],
   "source": [
    "55>=54"
   ]
  },
  {
   "cell_type": "code",
   "execution_count": 19,
   "metadata": {},
   "outputs": [
    {
     "data": {
      "text/plain": [
       "True"
      ]
     },
     "execution_count": 19,
     "metadata": {},
     "output_type": "execute_result"
    }
   ],
   "source": [
    "22<=22"
   ]
  },
  {
   "cell_type": "code",
   "execution_count": 18,
   "metadata": {},
   "outputs": [
    {
     "data": {
      "text/plain": [
       "True"
      ]
     },
     "execution_count": 18,
     "metadata": {},
     "output_type": "execute_result"
    }
   ],
   "source": [
    "5==5"
   ]
  },
  {
   "cell_type": "markdown",
   "metadata": {},
   "source": [
    "### Condiciones avanzadas\n",
    "Esta estructura ayuda a evaluar las acciones que debe de ejecutar el programa.\n",
    "\n",
    "**Nota: Los bloques en python se diferencían con los espaciados**\n",
    "\n",
    "- Sentencias if\n",
    "- Sentencias if/else"
   ]
  },
  {
   "cell_type": "code",
   "execution_count": 20,
   "metadata": {},
   "outputs": [
    {
     "name": "stdout",
     "output_type": "stream",
     "text": [
      "No puedes subir\n"
     ]
    }
   ],
   "source": [
    "if 1.60>12.0:\n",
    "    print(\"Puedes pasar\")\n",
    "else:\n",
    "    print(\"No puedes subir\")"
   ]
  }
 ],
 "metadata": {
  "kernelspec": {
   "display_name": "Python 3.11.0 64-bit",
   "language": "python",
   "name": "python3"
  },
  "language_info": {
   "codemirror_mode": {
    "name": "ipython",
    "version": 3
   },
   "file_extension": ".py",
   "mimetype": "text/x-python",
   "name": "python",
   "nbconvert_exporter": "python",
   "pygments_lexer": "ipython3",
   "version": "3.11.0"
  },
  "orig_nbformat": 4,
  "vscode": {
   "interpreter": {
    "hash": "c35a65dcb2fb158b4a338ec7910eda31f9b0ead28aec53faef3c7fbe9e8c86a9"
   }
  }
 },
 "nbformat": 4,
 "nbformat_minor": 2
}
