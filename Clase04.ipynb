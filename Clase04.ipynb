{
  "nbformat": 4,
  "nbformat_minor": 0,
  "metadata": {
    "colab": {
      "provenance": [],
      "authorship_tag": "ABX9TyM2454RH/aFbzZJu6oZAkgC",
      "include_colab_link": true
    },
    "kernelspec": {
      "name": "python3",
      "display_name": "Python 3"
    },
    "language_info": {
      "name": "python"
    }
  },
  "cells": [
    {
      "cell_type": "markdown",
      "metadata": {
        "id": "view-in-github",
        "colab_type": "text"
      },
      "source": [
        "<a href=\"https://colab.research.google.com/github/MissionApolo18/Curso-Pyhton/blob/main/Clase04.ipynb\" target=\"_parent\"><img src=\"https://colab.research.google.com/assets/colab-badge.svg\" alt=\"Open In Colab\"/></a>"
      ]
    },
    {
      "cell_type": "markdown",
      "source": [
        "# Clase 4\n",
        "- La documentación es una pieza clave a la hora de programar pues con ella podemos ayudar a evitar que el código se use de una manera inadecuada o por el otro lado, que no \"perdamos\" la lógica que estamos usando a la hora de programar.\n",
        "## Funciones\n",
        "Para crear una función debemos de crear la palabra \"def\"\n",
        "- Esta palabra indica que se creará una función\n",
        "  - Después de def, se debe de asiganr un nombre relacionado a lo que se está progrmanado.\n",
        "  - Lo unico que debemos de hacer es llamar a la función por su nombre y mandarle 2 argumentos.\n",
        "\n",
        "\n"
      ],
      "metadata": {
        "id": "c1VPfwb2dkAB"
      }
    },
    {
      "cell_type": "code",
      "execution_count": 2,
      "metadata": {
        "id": "0aq9ybZFdgQn"
      },
      "outputs": [],
      "source": [
        "def sumar (a,b):\n",
        "  \"\"\" Función para sumar 2 números\n",
        "## Parámetros\n",
        "uno: Número a sumar\n",
        "dos: número a sumar\n",
        "\n",
        "## Return\n",
        "Regresa la suma de los dos números.\n",
        "  \"\"\"\n",
        "  resultado= a + b\n",
        "  return resultado"
      ]
    },
    {
      "cell_type": "markdown",
      "source": [
        "Para documentar se puede usar lenguaje Markdown, es muy recomendado entre programadores documentar código, pues no siempre se podrá recurrir al mismo programador para resolver errores de código."
      ],
      "metadata": {
        "id": "qN84TauBebkM"
      }
    },
    {
      "cell_type": "code",
      "source": [
        "sumar(5,7)"
      ],
      "metadata": {
        "colab": {
          "base_uri": "https://localhost:8080/"
        },
        "id": "Z3mRcYhLebW7",
        "outputId": "b3e142c8-5156-4263-e7e8-660e15b164e6"
      },
      "execution_count": 4,
      "outputs": [
        {
          "output_type": "execute_result",
          "data": {
            "text/plain": [
              "12"
            ]
          },
          "metadata": {},
          "execution_count": 4
        }
      ]
    },
    {
      "cell_type": "markdown",
      "source": [
        "## Actividad 1\n",
        "Crear una función que reciba un parametro (dolares) y que devuelva la conversión a pesos mexicanos. Considedrando que el precio del dolar es de $19.76 pesos mexicanos "
      ],
      "metadata": {
        "id": "ovPs9BE3g_Ld"
      }
    },
    {
      "cell_type": "code",
      "source": [
        "def dolarapeso(d):\n",
        "  \"\"\"Función que calcula el valor equivalente de dolares a pesos\n",
        "  ## Parametros:\n",
        "  Uno: número a múltiplicar por el precio del solar en pesos mexicanos\n",
        "\n",
        "\n",
        "  ## Return\n",
        "  Regresa la conversión del valor ingresado\n",
        "  \"\"\"\n",
        "  peso= d*19.76\n",
        "  return peso"
      ],
      "metadata": {
        "id": "UVaOb0LkhozP"
      },
      "execution_count": 6,
      "outputs": []
    },
    {
      "cell_type": "code",
      "source": [
        "dolarapeso(25)"
      ],
      "metadata": {
        "colab": {
          "base_uri": "https://localhost:8080/"
        },
        "id": "aLCUJ60qiYx8",
        "outputId": "e9c049f2-b859-4c80-90b0-54cf3b48bb59"
      },
      "execution_count": 9,
      "outputs": [
        {
          "output_type": "execute_result",
          "data": {
            "text/plain": [
              "494.00000000000006"
            ]
          },
          "metadata": {},
          "execution_count": 9
        }
      ]
    },
    {
      "cell_type": "markdown",
      "source": [
        "## Actividad 2\n",
        "Crear una función que devuelva el promedio de una lista"
      ],
      "metadata": {
        "id": "tEReAXxrioj4"
      }
    },
    {
      "cell_type": "code",
      "source": [
        "def calificaciones(n):\n",
        "  \"\"\"Crea una lista para añadir calificaciones\n",
        "  ## Parametros\n",
        "  uno: esta admite la entrada de las calificaciones\n",
        "  \n",
        "  ## Return\n",
        "  Regresa la lista de las calificaciones\n",
        "  \"\"\"\n",
        "  n= int(input(\"Dame n cali:\"))\n",
        "  for i in range(n):\n",
        "    calificacion=int(input(f\"Dame la calificación{i+1}: \"))\n",
        "    califica.append(calificacion)\n",
        "  return califica\n",
        "\n",
        "def promedio():\n",
        "  prom= sum(calificaciones)/len(calificaciones)\n",
        "  if promedio >=6:\n",
        "    print(f\"Felicidades, obtuviste {promedio} y aprobaste\")\n",
        "  else: \n",
        "    print(\"F\")\n",
        "  return prom"
      ],
      "metadata": {
        "id": "zPGiczyGiwN5"
      },
      "execution_count": 24,
      "outputs": []
    },
    {
      "cell_type": "markdown",
      "source": [
        "## Reto 5\n",
        "### Ejercicio 1"
      ],
      "metadata": {
        "id": "xVI8-dkUk5UH"
      }
    },
    {
      "cell_type": "code",
      "source": [
        "def evalua(num1, num2):\n",
        "  \n",
        "  if num1 > num2:\n",
        "    print(f'Es mayor {num2}')\n",
        "  elif num2 > num1:\n",
        "    print(f'{num2} Es el mayor')\n",
        "  else:\n",
        "    print(\"Ambos numeros son iguales\")"
      ],
      "metadata": {
        "id": "9XFRnckkmSAP"
      },
      "execution_count": 26,
      "outputs": []
    },
    {
      "cell_type": "code",
      "source": [
        "evalua(13,18)"
      ],
      "metadata": {
        "colab": {
          "base_uri": "https://localhost:8080/"
        },
        "id": "2SqfkWwlnLL8",
        "outputId": "c0972702-429c-4cbe-c01b-502be9d11c8c"
      },
      "execution_count": 27,
      "outputs": [
        {
          "output_type": "stream",
          "name": "stdout",
          "text": [
            "18 Es el mayor\n"
          ]
        }
      ]
    },
    {
      "cell_type": "markdown",
      "source": [
        "### Ejercicio 2"
      ],
      "metadata": {
        "id": "wHmd5aL6nRX9"
      }
    },
    {
      "cell_type": "code",
      "source": [
        "def split_texto(texto):\n",
        "  return texto.split()"
      ],
      "metadata": {
        "id": "bqjtrHF4nT3J"
      },
      "execution_count": 39,
      "outputs": []
    },
    {
      "cell_type": "markdown",
      "source": [
        "pass es una palabra clave"
      ],
      "metadata": {
        "id": "0R3NzMMxr2RT"
      }
    },
    {
      "cell_type": "code",
      "source": [
        "text= \"El señor de los anillos\"\n",
        "\n",
        "split_texto(text)"
      ],
      "metadata": {
        "colab": {
          "base_uri": "https://localhost:8080/"
        },
        "id": "1uNy0-hdryoD",
        "outputId": "87fca4dc-95b8-41a7-88ae-8ef6d6453891"
      },
      "execution_count": 40,
      "outputs": [
        {
          "output_type": "execute_result",
          "data": {
            "text/plain": [
              "['El', 'señor', 'de', 'los', 'anillos']"
            ]
          },
          "metadata": {},
          "execution_count": 40
        }
      ]
    },
    {
      "cell_type": "markdown",
      "source": [
        "split permite dividir un texto a manera de una lista"
      ],
      "metadata": {
        "id": "drRPdUADsbjb"
      }
    },
    {
      "cell_type": "markdown",
      "source": [
        "### Ejercicio 3"
      ],
      "metadata": {
        "id": "lR4TvzwRn94Y"
      }
    },
    {
      "cell_type": "code",
      "source": [
        "x = [0, 60, 80, 117, 140, 155, 170, 189, 205, 223, 234, 239, 234, 227, 215, 180, 155, 160, 189, 206, 235]"
      ],
      "metadata": {
        "id": "qegxu-Utn9cr"
      },
      "execution_count": 41,
      "outputs": []
    },
    {
      "cell_type": "code",
      "source": [
        "def altavelocidad(velocidades):\n",
        "  segundo = 0\n",
        "\n",
        "  for velocidad in velocidades:\n",
        "    if velocidad > 210:\n",
        "      print(f'En el segundo {segundo} el piloto {velocidad}')\n",
        "    segundo = segundo + 1"
      ],
      "metadata": {
        "id": "J-RCS9dLoNss"
      },
      "execution_count": 46,
      "outputs": []
    },
    {
      "cell_type": "code",
      "source": [
        "altavelocidad(x)"
      ],
      "metadata": {
        "colab": {
          "base_uri": "https://localhost:8080/"
        },
        "id": "RSCwqyRNpCeo",
        "outputId": "792d8391-94d5-4a7f-f5a0-dbe1a9781ed3"
      },
      "execution_count": 47,
      "outputs": [
        {
          "output_type": "stream",
          "name": "stdout",
          "text": [
            "En el segundo 9 el piloto 223\n",
            "En el segundo 10 el piloto 234\n",
            "En el segundo 11 el piloto 239\n",
            "En el segundo 12 el piloto 234\n",
            "En el segundo 13 el piloto 227\n",
            "En el segundo 14 el piloto 215\n",
            "En el segundo 20 el piloto 235\n"
          ]
        }
      ]
    },
    {
      "cell_type": "markdown",
      "source": [
        "### Extra points"
      ],
      "metadata": {
        "id": "nsz79F0Ltq-B"
      }
    },
    {
      "cell_type": "code",
      "source": [
        "def num_par_impar(lista):\n",
        "  contador_par=0\n",
        "  contador_impar=0\n",
        "\n",
        "  for numero in lista:\n",
        "    if numero%2 == 0:\n",
        "      contador_par=+1\n",
        "    else:\n",
        "      contador_impar+=1\n",
        "  \n",
        "  return f'Tiene {contador_par} pares y {contador_impar} impares'"
      ],
      "metadata": {
        "id": "GG7EjInuttIF"
      },
      "execution_count": 51,
      "outputs": []
    },
    {
      "cell_type": "code",
      "source": [
        "numeros = [2,3,6,8,9]\n",
        "\n",
        "num_par_impar(numeros)"
      ],
      "metadata": {
        "id": "HCycnj7-uKJV"
      },
      "execution_count": null,
      "outputs": []
    }
  ]
}