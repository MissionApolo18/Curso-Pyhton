{
  "nbformat": 4,
  "nbformat_minor": 0,
  "metadata": {
    "colab": {
      "provenance": [],
      "authorship_tag": "ABX9TyM9+X6reylA2iV6WJ0gMggG"
    },
    "kernelspec": {
      "name": "python3",
      "display_name": "Python 3"
    },
    "language_info": {
      "name": "python"
    }
  },
  "cells": [
    {
      "cell_type": "markdown",
      "source": [
        "# Clase 5\n",
        "\n"
      ],
      "metadata": {
        "id": "JrxWSdxXw43N"
      }
    },
    {
      "cell_type": "code",
      "execution_count": 1,
      "metadata": {
        "id": "CAnoDSrIwxrC"
      },
      "outputs": [],
      "source": [
        "def get_count (sentence):\n",
        "  return sum([1 for letra in sentence if letra in 'aeiuou'])"
      ]
    },
    {
      "cell_type": "markdown",
      "source": [
        "## Librerías\n",
        "ayudan a que un código sea mñas eficiente (o menos largo). Para que esto funciones se debe de:\n",
        "- importar la librería o\n",
        "- Diseñar la libreria en caso de que no exista"
      ],
      "metadata": {
        "id": "Xytkh1VkyF3I"
      }
    },
    {
      "cell_type": "code",
      "source": [
        "import random"
      ],
      "metadata": {
        "id": "PjRziKy1yz-i"
      },
      "execution_count": 2,
      "outputs": []
    },
    {
      "cell_type": "markdown",
      "source": [
        "Para utilizar las librerías se utilliza \"import\", esta palabra importa toda la librería. \n",
        "En algunos centros de trabajo se usa la siguiente sentencia: "
      ],
      "metadata": {
        "id": "M18YDYFIy2qe"
      }
    },
    {
      "cell_type": "code",
      "source": [
        "from random import shuffle"
      ],
      "metadata": {
        "id": "-2b3vW5lzHYd"
      },
      "execution_count": 3,
      "outputs": []
    },
    {
      "cell_type": "markdown",
      "source": [
        "Esta sirve para importar únicamente una función especifica"
      ],
      "metadata": {
        "id": "Q90ZH3MtzLyG"
      }
    },
    {
      "cell_type": "code",
      "source": [
        "print (random.randint(0,10))"
      ],
      "metadata": {
        "colab": {
          "base_uri": "https://localhost:8080/"
        },
        "id": "fq_uTuP_zVQf",
        "outputId": "c0b52c96-eb94-4938-e1bf-3e28939b9c46"
      },
      "execution_count": 4,
      "outputs": [
        {
          "output_type": "stream",
          "name": "stdout",
          "text": [
            "7\n"
          ]
        }
      ]
    },
    {
      "cell_type": "markdown",
      "source": [
        "## Actividad"
      ],
      "metadata": {
        "id": "bPA6hHIqzyks"
      }
    },
    {
      "cell_type": "code",
      "source": [
        "ram = int(input(\"Adivina el número que saldrá: \"))\n",
        "dado=random.randint(1,6)\n",
        "print(f'Su número ingresado fue {ram} y el número resultante es: {dado}')\n",
        "if dado == ram:\n",
        "  print('Ganaste')\n",
        "else:\n",
        "  print('Perdiste')"
      ],
      "metadata": {
        "colab": {
          "base_uri": "https://localhost:8080/"
        },
        "id": "MQ9xzYvPz9O6",
        "outputId": "b3b3b68a-b438-406c-dfd3-241dc18a0569"
      },
      "execution_count": 11,
      "outputs": [
        {
          "output_type": "stream",
          "name": "stdout",
          "text": [
            "Adivina el número que saldrá: 5\n",
            "Su número ingresado fue 5 y el número resultante es: 4\n",
            "Perdiste\n"
          ]
        }
      ]
    },
    {
      "cell_type": "markdown",
      "source": [
        "## Actividad "
      ],
      "metadata": {
        "id": "htMFodkR2fu3"
      }
    },
    {
      "cell_type": "code",
      "source": [
        "lista = []\n",
        "for i in range(10):\n",
        "  num= random.randint(0,30)\n",
        "  lista.append(num)\n",
        "\n",
        "print (lista)"
      ],
      "metadata": {
        "colab": {
          "base_uri": "https://localhost:8080/"
        },
        "id": "LkIZvJcC2fKp",
        "outputId": "98999b14-1d62-47f3-e5a4-447a373f1614"
      },
      "execution_count": 9,
      "outputs": [
        {
          "output_type": "stream",
          "name": "stdout",
          "text": [
            "[2, 14, 10, 27, 22, 9, 18, 10, 27, 26]\n"
          ]
        }
      ]
    },
    {
      "cell_type": "markdown",
      "source": [
        "## Random Shuffle\n",
        "Esta función permite ordenar elementos de una lista."
      ],
      "metadata": {
        "id": "v0I9BuX93X85"
      }
    },
    {
      "cell_type": "code",
      "source": [
        "misfrutas = [\"Manzana\", \"Sandía\",\"Papaya\", \"Naranja\"]\n",
        "random.shuffle(misfrutas)\n",
        "print(misfrutas)"
      ],
      "metadata": {
        "colab": {
          "base_uri": "https://localhost:8080/"
        },
        "id": "hUEaJkNO3yD8",
        "outputId": "4ee0d908-432c-4ed3-8095-f174036f7b26"
      },
      "execution_count": 12,
      "outputs": [
        {
          "output_type": "stream",
          "name": "stdout",
          "text": [
            "['Naranja', 'Sandía', 'Manzana', 'Papaya']\n"
          ]
        }
      ]
    },
    {
      "cell_type": "markdown",
      "source": [
        "Shuffle trabaja sobre una estructura ya definida"
      ],
      "metadata": {
        "id": "8WBdp_CQ4Qos"
      }
    },
    {
      "cell_type": "markdown",
      "source": [
        "## Random Choice\n",
        "permite elegir un elemento aleatorio de una lista o cadena de texto"
      ],
      "metadata": {
        "id": "Jx0e-0Sv4mgK"
      }
    },
    {
      "cell_type": "code",
      "source": [
        "print(random.choice(misfrutas))"
      ],
      "metadata": {
        "colab": {
          "base_uri": "https://localhost:8080/"
        },
        "id": "JvoS2mqc4mJg",
        "outputId": "fd87aa6c-f847-4869-d88a-c62e6f7349ef"
      },
      "execution_count": 13,
      "outputs": [
        {
          "output_type": "stream",
          "name": "stdout",
          "text": [
            "Naranja\n"
          ]
        }
      ]
    },
    {
      "cell_type": "code",
      "source": [
        "texto = \"\"\n",
        "texto+= random.choice(\"Ajolote\")\n",
        "print(texto)"
      ],
      "metadata": {
        "colab": {
          "base_uri": "https://localhost:8080/"
        },
        "id": "qWzumXgJ5eVF",
        "outputId": "1ad7b5aa-7383-4463-cdaf-7bfebf83d256"
      },
      "execution_count": 14,
      "outputs": [
        {
          "output_type": "stream",
          "name": "stdout",
          "text": [
            "t\n"
          ]
        }
      ]
    },
    {
      "cell_type": "code",
      "source": [
        "letra = \"\"\n",
        "for i in range(10):\n",
        "  letra += random.choice('aeiou')\n",
        "\n",
        "print(letra)"
      ],
      "metadata": {
        "colab": {
          "base_uri": "https://localhost:8080/"
        },
        "id": "GskX7JDG6LKP",
        "outputId": "1c3547e2-4333-429e-a52a-23665f080b2f"
      },
      "execution_count": 23,
      "outputs": [
        {
          "output_type": "stream",
          "name": "stdout",
          "text": [
            "uouueaoaia\n"
          ]
        }
      ]
    },
    {
      "cell_type": "code",
      "source": [
        "\"-\".join([\"hola\",\"mundo\",\"en\", \"python\"])"
      ],
      "metadata": {
        "colab": {
          "base_uri": "https://localhost:8080/",
          "height": 36
        },
        "id": "aBrJ1XYE7hkV",
        "outputId": "aa97c9a1-0614-4ca3-a7c5-ca1a79b6243c"
      },
      "execution_count": 24,
      "outputs": [
        {
          "output_type": "execute_result",
          "data": {
            "text/plain": [
              "'hola-mundo-en-python'"
            ],
            "application/vnd.google.colaboratory.intrinsic+json": {
              "type": "string"
            }
          },
          "metadata": {},
          "execution_count": 24
        }
      ]
    },
    {
      "cell_type": "code",
      "source": [
        "\"\".join([random.choice('aeiou') for i in range (10)])"
      ],
      "metadata": {
        "colab": {
          "base_uri": "https://localhost:8080/",
          "height": 36
        },
        "id": "rYHrToO17sp7",
        "outputId": "f1467124-c452-4599-aff9-37878a14bb70"
      },
      "execution_count": 25,
      "outputs": [
        {
          "output_type": "execute_result",
          "data": {
            "text/plain": [
              "'uouoaoiaou'"
            ],
            "application/vnd.google.colaboratory.intrinsic+json": {
              "type": "string"
            }
          },
          "metadata": {},
          "execution_count": 25
        }
      ]
    },
    {
      "cell_type": "markdown",
      "source": [
        "# Proyecto: Generador de contraseñas"
      ],
      "metadata": {
        "id": "hxQGG92Q9WcC"
      }
    },
    {
      "cell_type": "code",
      "source": [
        "def generador_contrasenia (cont):\n",
        "  letras = \"ABCDEFGHIJKLMNOPQRSTUVWXYZabcdefghijklmnoqrtuvwxyz\"\n",
        "  let = \"\"\n",
        "  for _ in range(cont):\n",
        "    let+=random.choice(letras)\n",
        "  \n",
        "  return let"
      ],
      "metadata": {
        "id": "gtaBJ8R69ua8"
      },
      "execution_count": 46,
      "outputs": []
    },
    {
      "cell_type": "code",
      "source": [
        "n= int(input(\"¿De cuántos digitos desea su contraseña? \"))\n",
        "resultado = generador_contrasenia(n)\n",
        "print(resultado)"
      ],
      "metadata": {
        "colab": {
          "base_uri": "https://localhost:8080/"
        },
        "id": "y0z7l96Z9aiZ",
        "outputId": "8e73f5a7-668b-4951-a7a6-bbe22915e732"
      },
      "execution_count": 48,
      "outputs": [
        {
          "output_type": "stream",
          "name": "stdout",
          "text": [
            "¿De cuántos digitos desea su contraseña? 12\n",
            "CZkwzBYtKLqh\n"
          ]
        }
      ]
    },
    {
      "cell_type": "markdown",
      "source": [
        "#List Comprehension"
      ],
      "metadata": {
        "id": "H2Btnwa_FLaC"
      }
    },
    {
      "cell_type": "code",
      "source": [
        "[i**2 for i in range (10)]"
      ],
      "metadata": {
        "colab": {
          "base_uri": "https://localhost:8080/"
        },
        "id": "F6gua5sH-pVe",
        "outputId": "5103f5c0-5a21-4cc6-87fd-280f85f803c5"
      },
      "execution_count": 49,
      "outputs": [
        {
          "output_type": "execute_result",
          "data": {
            "text/plain": [
              "[0, 1, 4, 9, 16, 25, 36, 49, 64, 81]"
            ]
          },
          "metadata": {},
          "execution_count": 49
        }
      ]
    },
    {
      "cell_type": "code",
      "source": [
        "[i**2 for i in range (10)if i**2>25]"
      ],
      "metadata": {
        "colab": {
          "base_uri": "https://localhost:8080/"
        },
        "id": "TfEkTBQTFVVC",
        "outputId": "8e57cbbd-9bdd-4e57-d3ec-0c94bb994c15"
      },
      "execution_count": 50,
      "outputs": [
        {
          "output_type": "execute_result",
          "data": {
            "text/plain": [
              "[36, 49, 64, 81]"
            ]
          },
          "metadata": {},
          "execution_count": 50
        }
      ]
    },
    {
      "cell_type": "code",
      "source": [
        "[letra for letra in 'auqisjiqlso' if letra in 'aeiou']"
      ],
      "metadata": {
        "colab": {
          "base_uri": "https://localhost:8080/"
        },
        "id": "t12ObSl7F8lo",
        "outputId": "d6d15dc9-7664-4cfc-e49e-14f594625ca8"
      },
      "execution_count": 51,
      "outputs": [
        {
          "output_type": "execute_result",
          "data": {
            "text/plain": [
              "['a', 'u', 'i', 'i', 'o']"
            ]
          },
          "metadata": {},
          "execution_count": 51
        }
      ]
    },
    {
      "cell_type": "markdown",
      "source": [
        "## Dict Comprehension \n",
        "Son diccionarios que permiten tener claes y valores, tiene sus propios métodos"
      ],
      "metadata": {
        "id": "lDCzdESkGMuZ"
      }
    },
    {
      "cell_type": "code",
      "source": [
        "diccionario = {\n",
        "    'México': 'CDMX',\n",
        "    'Colombia': 'Bogotá',\n",
        "}"
      ],
      "metadata": {
        "id": "J0mairr9GVw0"
      },
      "execution_count": 52,
      "outputs": []
    },
    {
      "cell_type": "code",
      "source": [
        "diccionario.keys()"
      ],
      "metadata": {
        "colab": {
          "base_uri": "https://localhost:8080/"
        },
        "id": "j-5PkmubHGTm",
        "outputId": "38bf5295-0d17-48db-b7ca-6af958a69cdc"
      },
      "execution_count": 53,
      "outputs": [
        {
          "output_type": "execute_result",
          "data": {
            "text/plain": [
              "dict_keys(['México', 'Colombia'])"
            ]
          },
          "metadata": {},
          "execution_count": 53
        }
      ]
    },
    {
      "cell_type": "code",
      "source": [
        "diccionario.values()"
      ],
      "metadata": {
        "colab": {
          "base_uri": "https://localhost:8080/"
        },
        "id": "ADVwApQJHJ_w",
        "outputId": "9792b2e8-8da2-4514-9ac5-25a1c2c6ab9b"
      },
      "execution_count": 54,
      "outputs": [
        {
          "output_type": "execute_result",
          "data": {
            "text/plain": [
              "dict_values(['CDMX', 'Bogotá'])"
            ]
          },
          "metadata": {},
          "execution_count": 54
        }
      ]
    },
    {
      "cell_type": "code",
      "source": [
        "diccionario['México']"
      ],
      "metadata": {
        "colab": {
          "base_uri": "https://localhost:8080/",
          "height": 36
        },
        "id": "MSnSFFaBHcw_",
        "outputId": "a7ce8fd4-4294-48d5-d64f-360e5be426dd"
      },
      "execution_count": 55,
      "outputs": [
        {
          "output_type": "execute_result",
          "data": {
            "text/plain": [
              "'CDMX'"
            ],
            "application/vnd.google.colaboratory.intrinsic+json": {
              "type": "string"
            }
          },
          "metadata": {},
          "execution_count": 55
        }
      ]
    },
    {
      "cell_type": "code",
      "source": [
        "population ={\n",
        "    'CDMX':1_000_000,\n",
        "    'Puebla': 500_000\n",
        "}"
      ],
      "metadata": {
        "id": "xotyB6lhHtVp"
      },
      "execution_count": 59,
      "outputs": []
    },
    {
      "cell_type": "code",
      "source": [
        "print(population)"
      ],
      "metadata": {
        "colab": {
          "base_uri": "https://localhost:8080/"
        },
        "id": "KebI7Q83H42f",
        "outputId": "ad507354-ed6f-4f44-8d2d-fdbec670006d"
      },
      "execution_count": 60,
      "outputs": [
        {
          "output_type": "stream",
          "name": "stdout",
          "text": [
            "{'CDMX': 1000000, 'Puebla': 500000}\n"
          ]
        }
      ]
    },
    {
      "cell_type": "markdown",
      "source": [
        "## Conjuntos"
      ],
      "metadata": {
        "id": "hL862nQwIQ9c"
      }
    },
    {
      "cell_type": "code",
      "source": [
        "conjunto = {\n",
        "    'A','B','C'\n",
        "}"
      ],
      "metadata": {
        "id": "cWesXaMPIYmr"
      },
      "execution_count": 61,
      "outputs": []
    },
    {
      "cell_type": "code",
      "source": [
        "conjunto"
      ],
      "metadata": {
        "colab": {
          "base_uri": "https://localhost:8080/"
        },
        "id": "YGlldME7IgeG",
        "outputId": "e5b71b72-8e4d-4e3a-881f-d6fb6865a14d"
      },
      "execution_count": 62,
      "outputs": [
        {
          "output_type": "execute_result",
          "data": {
            "text/plain": [
              "{'A', 'B', 'C'}"
            ]
          },
          "metadata": {},
          "execution_count": 62
        }
      ]
    },
    {
      "cell_type": "markdown",
      "source": [
        "## Tuplas\n",
        "Son mutables"
      ],
      "metadata": {
        "id": "_pEx0CtVJGM3"
      }
    },
    {
      "cell_type": "code",
      "source": [
        "tupla =(4,5,6)"
      ],
      "metadata": {
        "id": "S8lMFEtkJK7l"
      },
      "execution_count": 64,
      "outputs": []
    }
  ]
}