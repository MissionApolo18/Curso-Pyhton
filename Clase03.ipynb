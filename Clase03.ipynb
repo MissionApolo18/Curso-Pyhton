{
 "cells": [
  {
   "cell_type": "markdown",
   "metadata": {},
   "source": [
    "# Clase 04\n",
    "\n",
    "## Ciclo While\n",
    "\n",
    "```\n",
    "if True: \n",
    "    print(\"Se cumple la condición\")\n",
    "```\n",
    "While: Es un ciclo que se estará repitiendo hasta que se cumpla la condición\n",
    "\n",
    "```\n",
    "while True:\n",
    "    print (\"Se cumple la condición\")\n",
    "```"
   ]
  },
  {
   "cell_type": "code",
   "execution_count": 1,
   "metadata": {},
   "outputs": [
    {
     "name": "stdout",
     "output_type": "stream",
     "text": [
      "Se cumple la condición\n",
      "Se cumple la condición\n",
      "Se cumple la condición\n",
      "Se cumple la condición\n",
      "Se cumple la condición\n",
      "Se cumple la condición\n"
     ]
    }
   ],
   "source": [
    "contador=0\n",
    "\n",
    "while contador<=5:\n",
    "    print(\"Se cumple la condición\")\n",
    "    contador= contador+1"
   ]
  },
  {
   "cell_type": "markdown",
   "metadata": {},
   "source": [
    "Se necesita de un \"delimitador\" para que no se vuelva un ciclo infinito (que no haya manera de detenerlo).\n",
    "\n",
    "**Nota: en el ejemplo de contador, se repitió 6 veces porque contador considera la primera posición a 0.**\n",
    "**Nota 2: en python no hay sentencias i++, sino se escribe algo así:**\n",
    "```\n",
    "contador+=i\n",
    "```"
   ]
  },
  {
   "cell_type": "markdown",
   "metadata": {},
   "source": [
    "## Actividad 1"
   ]
  },
  {
   "cell_type": "code",
   "execution_count": 5,
   "metadata": {},
   "outputs": [
    {
     "name": "stdout",
     "output_type": "stream",
     "text": [
      "Necesitas crear una contraseña de más de seis digitos\n",
      "Usuario Registrado\n"
     ]
    }
   ],
   "source": [
    "auth=0\n",
    "\n",
    "while auth==0:\n",
    "    username=input(\"Usuario: \")\n",
    "    password = input(\"Contraseña: \")\n",
    "\n",
    "    if len(password)<6:\n",
    "        print(\"Necesitas crear una contraseña de más de seis digitos\")\n",
    "    else:\n",
    "        print(\"Usuario Registrado\")\n",
    "        auth=1\n"
   ]
  },
  {
   "cell_type": "markdown",
   "metadata": {},
   "source": [
    "El ciclo while, termina de ejecutarse cuando:\n",
    "- Se cambia el valor de la variable\n",
    "- Se usa la sentencia break"
   ]
  },
  {
   "cell_type": "markdown",
   "metadata": {},
   "source": [
    "## Ciclo For\n",
    "\n",
    "Permite trabajar con un número o una estructura\n",
    "\n",
    "### For de rangos\n",
    "permite definir cuantas veces se va a repetir un bloque"
   ]
  },
  {
   "cell_type": "code",
   "execution_count": 7,
   "metadata": {},
   "outputs": [
    {
     "name": "stdout",
     "output_type": "stream",
     "text": [
      "Hola mundo\n",
      "Hola mundo\n",
      "Hola mundo\n",
      "Hola mundo\n",
      "Hola mundo\n",
      "Hola mundo\n",
      "Hola mundo\n",
      "Hola mundo\n",
      "Hola mundo\n",
      "Hola mundo\n"
     ]
    }
   ],
   "source": [
    "for indice in range(10):\n",
    "    print(\"Hola mundo\")"
   ]
  },
  {
   "cell_type": "markdown",
   "metadata": {},
   "source": [
    "donde:\n",
    "- for: es la estructura para iniciar un ciclo\n",
    "- indice: es el valor que contantemente está cambiando\n",
    "- in: es el valor que va a definir si es for de Rangos o for de Elementos\n",
    "- range (10): es el rango de repetición.\n",
    "\n",
    "También se puede hacer que el ciclo \"dé\" saltos:"
   ]
  },
  {
   "cell_type": "code",
   "execution_count": 8,
   "metadata": {},
   "outputs": [
    {
     "name": "stdout",
     "output_type": "stream",
     "text": [
      "5\n",
      "7\n",
      "9\n",
      "11\n",
      "13\n",
      "15\n",
      "17\n",
      "19\n",
      "21\n",
      "23\n"
     ]
    }
   ],
   "source": [
    "for i in range(5,25,2):\n",
    "    print(i)"
   ]
  },
  {
   "cell_type": "markdown",
   "metadata": {},
   "source": [
    "## Actividad 5"
   ]
  },
  {
   "cell_type": "code",
   "execution_count": 9,
   "metadata": {},
   "outputs": [
    {
     "name": "stdout",
     "output_type": "stream",
     "text": [
      "0\n",
      "1\n",
      "2\n",
      "3\n",
      "4\n",
      "5\n"
     ]
    }
   ],
   "source": [
    "n=int(input(\"¿Cuántas veces se repetirá? \"))\n",
    "\n",
    "for i in range(n):\n",
    "    print(i)"
   ]
  },
  {
   "cell_type": "markdown",
   "metadata": {},
   "source": [
    "## for y listas"
   ]
  },
  {
   "cell_type": "code",
   "execution_count": 10,
   "metadata": {},
   "outputs": [],
   "source": [
    "numeros_cuadrado=[]"
   ]
  },
  {
   "cell_type": "code",
   "execution_count": 11,
   "metadata": {},
   "outputs": [],
   "source": [
    "for i in range(10):\n",
    "    numeros_cuadrado.append(i**2)"
   ]
  },
  {
   "cell_type": "code",
   "execution_count": 12,
   "metadata": {},
   "outputs": [
    {
     "name": "stdout",
     "output_type": "stream",
     "text": [
      "[0, 1, 4, 9, 16, 25, 36, 49, 64, 81]\n"
     ]
    }
   ],
   "source": [
    "print(numeros_cuadrado)"
   ]
  },
  {
   "cell_type": "code",
   "execution_count": 13,
   "metadata": {},
   "outputs": [
    {
     "name": "stdout",
     "output_type": "stream",
     "text": [
      "Sandía\n",
      "manzana\n",
      "melon\n",
      "fresa\n"
     ]
    }
   ],
   "source": [
    "misfruutas=[\"Sandía\", \"manzana\", \"melon\", \"fresa\"]\n",
    "\n",
    "for i in range(4):\n",
    "    print(misfruutas[i])"
   ]
  },
  {
   "cell_type": "markdown",
   "metadata": {},
   "source": [
    "## For de elementos\n",
    "\n",
    "Permite hacer lo mismo que el otro for pero sin la necesidad de los indices"
   ]
  },
  {
   "cell_type": "code",
   "execution_count": 14,
   "metadata": {},
   "outputs": [
    {
     "name": "stdout",
     "output_type": "stream",
     "text": [
      "Sandía\n",
      "manzana\n",
      "melon\n",
      "fresa\n"
     ]
    }
   ],
   "source": [
    "for e in misfruutas:\n",
    "    print(e)"
   ]
  },
  {
   "cell_type": "markdown",
   "metadata": {},
   "source": [
    "**Nota: siempre va a iterar los elementos TOTALES de la lista**"
   ]
  },
  {
   "cell_type": "markdown",
   "metadata": {},
   "source": [
    "## Actividad"
   ]
  },
  {
   "cell_type": "code",
   "execution_count": 15,
   "metadata": {},
   "outputs": [
    {
     "name": "stdout",
     "output_type": "stream",
     "text": [
      "Felicidades, obtuviste 9.0 y aprobaste\n"
     ]
    }
   ],
   "source": [
    "n= int(input(\"Dame n cali:\"))\n",
    "\n",
    "calificaciones=[]\n",
    "\n",
    "for i in range(n):\n",
    "    calificacion=int(input(f\"Dame la calificación: {i+1}\"))\n",
    "    calificaciones.append(calificacion)\n",
    "\n",
    "promedio= sum(calificaciones)/len(calificaciones)\n",
    "\n",
    "if promedio >=6:\n",
    "    print(f\"Felicidades, obtuviste {promedio} y aprobaste\")\n",
    "else: \n",
    "    print(\"F\")"
   ]
  },
  {
   "cell_type": "markdown",
   "metadata": {},
   "source": [
    "## Manejo de errores\n",
    "\n"
   ]
  },
  {
   "cell_type": "code",
   "execution_count": 16,
   "metadata": {},
   "outputs": [
    {
     "name": "stdout",
     "output_type": "stream",
     "text": [
      "Trataste de dividir cero entre cero :c\n"
     ]
    }
   ],
   "source": [
    "try:\n",
    "    print(0 / 0)\n",
    "except ZeroDivisionError:\n",
    "    print(\"Trataste de dividir cero entre cero :c\")"
   ]
  },
  {
   "cell_type": "markdown",
   "metadata": {},
   "source": [
    "## Reto\n",
    "### Ejercicio 1"
   ]
  },
  {
   "cell_type": "code",
   "execution_count": 17,
   "metadata": {},
   "outputs": [
    {
     "name": "stdout",
     "output_type": "stream",
     "text": [
      "Robot Avanza\n",
      "Robot Avanza\n",
      "Robot Avanza\n",
      "Robot Avanza\n",
      "Robot Avanza\n",
      "Robot Avanza\n",
      "Robot Avanza\n",
      "Robot Avanza\n",
      "Robot Avanza\n",
      "Robot Avanza\n"
     ]
    }
   ],
   "source": [
    "indice=0\n",
    "\n",
    "for i in range (10):\n",
    "    print(\"Robot Avanza\")"
   ]
  },
  {
   "cell_type": "markdown",
   "metadata": {},
   "source": [
    "### Ejercicio 2"
   ]
  },
  {
   "cell_type": "code",
   "execution_count": 19,
   "metadata": {},
   "outputs": [
    {
     "name": "stdout",
     "output_type": "stream",
     "text": [
      "0\n",
      "1\n",
      "2\n",
      "3\n",
      "4\n",
      "5\n",
      "6\n",
      "7\n",
      "8\n",
      "9\n",
      "10\n",
      "11\n",
      "12\n",
      "13\n",
      "14\n",
      "15\n"
     ]
    }
   ],
   "source": [
    "for i in range(0,16,1):\n",
    "    print(i)"
   ]
  },
  {
   "cell_type": "code",
   "execution_count": 23,
   "metadata": {},
   "outputs": [
    {
     "name": "stdout",
     "output_type": "stream",
     "text": [
      "10\n",
      "12\n",
      "14\n",
      "16\n",
      "18\n",
      "20\n",
      "22\n",
      "24\n",
      "26\n",
      "28\n"
     ]
    }
   ],
   "source": [
    "for i in range(10,30,2):\n",
    "    print(i)"
   ]
  },
  {
   "cell_type": "code",
   "execution_count": 24,
   "metadata": {},
   "outputs": [
    {
     "name": "stdout",
     "output_type": "stream",
     "text": [
      "10\n",
      "12\n",
      "14\n",
      "16\n",
      "18\n",
      "20\n",
      "22\n",
      "24\n",
      "26\n",
      "28\n",
      "30\n"
     ]
    }
   ],
   "source": [
    "for i in range(10,31,2):\n",
    "    print(i)"
   ]
  },
  {
   "cell_type": "code",
   "execution_count": 36,
   "metadata": {},
   "outputs": [
    {
     "name": "stdout",
     "output_type": "stream",
     "text": [
      "[10, 12, 14, 16, 18, 20, 22, 24, 26, 28, 30]\n"
     ]
    }
   ],
   "source": [
    "numeros= []\n",
    "for i in range(10,31,2):\n",
    "    numeros.append(i)\n",
    "print(numeros)"
   ]
  },
  {
   "cell_type": "markdown",
   "metadata": {},
   "source": [
    "### Ejercicio 3"
   ]
  },
  {
   "cell_type": "code",
   "execution_count": 41,
   "metadata": {},
   "outputs": [
    {
     "name": "stdout",
     "output_type": "stream",
     "text": [
      "8.4\n"
     ]
    }
   ],
   "source": [
    "calificaciones=[]\n",
    "\n",
    "for i in range(5):\n",
    "    calificacion=int(input(f\"Dame la calificación: {i+1}\"))\n",
    "    calificaciones.append(calificacion)\n",
    "promedio= sum(calificaciones)/len(calificaciones)\n",
    "print(promedio)"
   ]
  },
  {
   "cell_type": "markdown",
   "metadata": {},
   "source": [
    "### Extra Points"
   ]
  },
  {
   "cell_type": "code",
   "execution_count": 43,
   "metadata": {},
   "outputs": [],
   "source": [
    "lista = [450, 362, 864, 715, 964, 1025, 1455, 826, 714, 1600, 245, 489, 879, 756, 1124, 499, 1726]"
   ]
  },
  {
   "cell_type": "code",
   "execution_count": 44,
   "metadata": {},
   "outputs": [
    {
     "name": "stdout",
     "output_type": "stream",
     "text": [
      "12316.880000000001\n"
     ]
    }
   ],
   "source": [
    "total=[]\n",
    "for producto in lista:\n",
    "    if producto>1500:\n",
    "        total.append(producto*.80)\n",
    "    elif producto>1000:\n",
    "        total.append(producto*.82)\n",
    "    elif producto>500:\n",
    "        total.append(producto*.85)\n",
    "    elif producto>100:\n",
    "        total.append(producto*.90)\n",
    "    else: \n",
    "        total.append(producto)\n",
    "\n",
    "aPagar=sum(total)\n",
    "print(aPagar)"
   ]
  }
 ],
 "metadata": {
  "kernelspec": {
   "display_name": "Python 3.11.0 64-bit",
   "language": "python",
   "name": "python3"
  },
  "language_info": {
   "codemirror_mode": {
    "name": "ipython",
    "version": 3
   },
   "file_extension": ".py",
   "mimetype": "text/x-python",
   "name": "python",
   "nbconvert_exporter": "python",
   "pygments_lexer": "ipython3",
   "version": "3.11.0"
  },
  "orig_nbformat": 4,
  "vscode": {
   "interpreter": {
    "hash": "c35a65dcb2fb158b4a338ec7910eda31f9b0ead28aec53faef3c7fbe9e8c86a9"
   }
  }
 },
 "nbformat": 4,
 "nbformat_minor": 2
}
